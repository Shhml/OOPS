{
  "nbformat": 4,
  "nbformat_minor": 0,
  "metadata": {
    "colab": {
      "provenance": []
    },
    "kernelspec": {
      "name": "python3",
      "display_name": "Python 3"
    },
    "language_info": {
      "name": "python"
    }
  },
  "cells": [
    {
      "cell_type": "code",
      "execution_count": null,
      "metadata": {
        "colab": {
          "base_uri": "https://localhost:8080/"
        },
        "id": "-GL5OuvWUzA_",
        "outputId": "4055626e-d90d-408c-ffa4-612ce46199e2"
      },
      "outputs": [
        {
          "output_type": "stream",
          "name": "stdout",
          "text": [
            "<class 'int'>\n"
          ]
        }
      ],
      "source": [
        "a=1\n",
        "print(type(a))"
      ]
    },
    {
      "cell_type": "code",
      "source": [
        "class Faculty:\n",
        "  pass\n",
        "faculty=Faculty()\n",
        "print(type(faculty))"
      ],
      "metadata": {
        "colab": {
          "base_uri": "https://localhost:8080/"
        },
        "id": "NbqtZQGVU-Ui",
        "outputId": "4c8ea5c3-c15a-440e-9df1-1def69a46a7d"
      },
      "execution_count": null,
      "outputs": [
        {
          "output_type": "stream",
          "name": "stdout",
          "text": [
            "<class '__main__.Faculty'>\n"
          ]
        }
      ]
    },
    {
      "cell_type": "code",
      "source": [
        "class Faculty:\n",
        "  pass\n",
        "\n",
        "faculty1=Faculty()\n",
        "faculty1.name=\"nahan\"\n",
        "print(faculty1.name)\n",
        "\n",
        "faculty2=Faculty()\n",
        "faculty2.name=\"shamil\"\n",
        "print(faculty2.name)\n",
        "\n",
        "print(type(faculty1))\n",
        "print(type(faculty2))"
      ],
      "metadata": {
        "colab": {
          "base_uri": "https://localhost:8080/"
        },
        "id": "8svNfW_KVSsq",
        "outputId": "81e15306-78ab-435c-9bda-dacdccac43b4"
      },
      "execution_count": null,
      "outputs": [
        {
          "output_type": "stream",
          "name": "stdout",
          "text": [
            "nahan\n",
            "shamil\n",
            "<class '__main__.Faculty'>\n",
            "<class '__main__.Faculty'>\n"
          ]
        }
      ]
    },
    {
      "cell_type": "code",
      "source": [
        "class Faculty:\n",
        "  inst_id=101\n",
        "  def __init__(self,name,age,place=\"manjeri\"):\n",
        "    self.name=name\n",
        "    self.age=age\n",
        "    self.place=place\n",
        "\n",
        "faculty1=Faculty(\"nahan\",18)\n",
        "faculty2=Faculty(\"abee\",18,\"kazhikode\")\n",
        "\n",
        "print(faculty1.name)\n",
        "print(faculty2.name)\n",
        "print(faculty2.inst_id)\n",
        "print(faculty1.place)\n",
        "print(faculty2.place)"
      ],
      "metadata": {
        "colab": {
          "base_uri": "https://localhost:8080/"
        },
        "id": "bJqi1GoMXbbK",
        "outputId": "fa6b0245-ac7f-4a6a-f86b-24bae4934bf3"
      },
      "execution_count": null,
      "outputs": [
        {
          "output_type": "stream",
          "name": "stdout",
          "text": [
            "nahan\n",
            "abee\n",
            "101\n",
            "manjeri\n",
            "kazhikode\n"
          ]
        }
      ]
    },
    {
      "cell_type": "markdown",
      "source": [
        "#***`How to create a class`***"
      ],
      "metadata": {
        "id": "jMW1Ht0pZa42"
      }
    },
    {
      "cell_type": "code",
      "source": [
        "class Car:\n",
        "  company=\"BMW\"\n",
        "  model=\"m5\"\n",
        "  price=2500000000\n",
        "  color=\"black\"\n",
        "\n",
        "  def displayDetials(self):\n",
        "    print(\"printing all details\")"
      ],
      "metadata": {
        "id": "t2HuWJM5Zame"
      },
      "execution_count": null,
      "outputs": []
    },
    {
      "cell_type": "markdown",
      "source": [
        "#***`How to ccreate object from the class`***"
      ],
      "metadata": {
        "id": "V9jlks8oaQEW"
      }
    },
    {
      "cell_type": "code",
      "source": [
        "class Car:\n",
        "  company=\"BMW\"\n",
        "  model=\"m5\"\n",
        "  price=2500000000\n",
        "  color=\"black\"\n",
        "\n",
        "  def displayDetials(self):\n",
        "    print(\"printing all details\")\n",
        "\n",
        "    a=Car()\n",
        "    b=Car()\n",
        "    c=Car()"
      ],
      "metadata": {
        "id": "W1mm6-hbaPyO"
      },
      "execution_count": null,
      "outputs": []
    },
    {
      "cell_type": "markdown",
      "source": [
        "#***`How to check the type of a,b,c`***"
      ],
      "metadata": {
        "id": "CDqDutD0ao3V"
      }
    },
    {
      "cell_type": "code",
      "source": [
        "class Car:\n",
        "  company=\"BMW\"\n",
        "  model=\"m5\"\n",
        "  price=2500000000\n",
        "  color=\"black\"\n",
        "\n",
        "  def displayDetials(self):\n",
        "    print(\"printing all details\")\n",
        "\n",
        "a=Car()\n",
        "b=Car()\n",
        "c=Car()\n",
        "\n",
        "print(type(a))\n",
        "print(type(b))\n",
        "print(type(c))"
      ],
      "metadata": {
        "colab": {
          "base_uri": "https://localhost:8080/"
        },
        "id": "Xq6Xn2NBaxpU",
        "outputId": "b63b588f-f03a-4447-9b00-c415e6cc8673"
      },
      "execution_count": null,
      "outputs": [
        {
          "output_type": "stream",
          "name": "stdout",
          "text": [
            "<class '__main__.Car'>\n",
            "<class '__main__.Car'>\n",
            "<class '__main__.Car'>\n"
          ]
        }
      ]
    },
    {
      "cell_type": "code",
      "source": [
        "class Car:\n",
        "  company=\"BMW\"\n",
        "  model=\"m5\"\n",
        "  price=2500000000\n",
        "  color=\"black\"\n",
        "\n",
        "  def displayDetials(self):\n",
        "    print(\"printing all details\")\n",
        "\n",
        "a=Car()\n",
        "print(Car.color,Car.company,Car.model,Car.price)"
      ],
      "metadata": {
        "colab": {
          "base_uri": "https://localhost:8080/"
        },
        "id": "__kElAxjcTnt",
        "outputId": "50d85b86-1db2-462d-97ee-d02eca2f47b9"
      },
      "execution_count": null,
      "outputs": [
        {
          "output_type": "stream",
          "name": "stdout",
          "text": [
            "black BMW m5 2500000000\n"
          ]
        }
      ]
    },
    {
      "cell_type": "code",
      "source": [
        "class Car:\n",
        "  company=\"BMW\"\n",
        "  model=\"m5\"\n",
        "  price=2500000000\n",
        "  color=\"black\"\n",
        "\n",
        "  def displayDetials(self):\n",
        "    print(\"printing all details\")\n",
        "\n",
        "a=Car()\n",
        "a.displayDetials()"
      ],
      "metadata": {
        "colab": {
          "base_uri": "https://localhost:8080/"
        },
        "id": "8vaMtlcHdlv8",
        "outputId": "456e45fe-b171-48ee-b6e3-9aa43ef1960b"
      },
      "execution_count": null,
      "outputs": [
        {
          "output_type": "stream",
          "name": "stdout",
          "text": [
            "printing all details\n"
          ]
        }
      ]
    },
    {
      "cell_type": "markdown",
      "source": [
        "#***`Constructor`***"
      ],
      "metadata": {
        "id": "-ibgNBZOnKq-"
      }
    },
    {
      "cell_type": "code",
      "source": [
        "class Employee:\n",
        "  company_name=\"ABCD TECHNOLOGY\"\n",
        "  location=\"kochi\"\n",
        "\n",
        "  def __init__(self,id,name,salary):"
      ],
      "metadata": {
        "id": "ugv5Sk_qnQJe",
        "colab": {
          "base_uri": "https://localhost:8080/",
          "height": 106
        },
        "outputId": "f57d9c5a-7665-42b9-ca19-bf7630a6812b"
      },
      "execution_count": null,
      "outputs": [
        {
          "output_type": "error",
          "ename": "SyntaxError",
          "evalue": "incomplete input (<ipython-input-22-a340d9beb96c>, line 5)",
          "traceback": [
            "\u001b[0;36m  File \u001b[0;32m\"<ipython-input-22-a340d9beb96c>\"\u001b[0;36m, line \u001b[0;32m5\u001b[0m\n\u001b[0;31m    def __init__(self,id,name,salary):\u001b[0m\n\u001b[0m                                      ^\u001b[0m\n\u001b[0;31mSyntaxError\u001b[0m\u001b[0;31m:\u001b[0m incomplete input\n"
          ]
        }
      ]
    },
    {
      "cell_type": "markdown",
      "source": [
        "#***`How to create object variable`***\n",
        "\n",
        "\n",
        "\n"
      ],
      "metadata": {
        "id": "-ZZGQjiKnREW"
      }
    },
    {
      "cell_type": "code",
      "source": [
        "class Employee:\n",
        "  company_name=\"ABCD TECHNOLOGY\"\n",
        "  location=\"kochi\"\n",
        "\n",
        "  def __init__(self,id,name,salary):\n",
        "    self.emp_id=id\n",
        "    self.emp_name=name\n",
        "    self.emp_salary=salary\n",
        "  def get_details(self):\n",
        "    print(self.emp_id,self.emp_name,self.emp_salary)\n",
        "\n",
        "obj1=Employee(100,\"x\",50000)\n",
        "obj2=Employee(101,\"y\",60000)\n",
        "\n",
        "obj1.get_details()\n",
        "obj2.get_details()"
      ],
      "metadata": {
        "id": "ouPOGrDTnR7X",
        "colab": {
          "base_uri": "https://localhost:8080/"
        },
        "outputId": "c88e446d-c464-4e75-cab8-7b9192fe06e2"
      },
      "execution_count": null,
      "outputs": [
        {
          "output_type": "stream",
          "name": "stdout",
          "text": [
            "100 x 50000\n",
            "101 y 60000\n"
          ]
        }
      ]
    },
    {
      "cell_type": "markdown",
      "source": [
        "#1.\n",
        "* create a classs car with attribute brand .model and year\n",
        "\n",
        "* instantiate an object with brand\"toyota\",model=\"corolla\" and year=2020\n",
        "\n",
        "* print the attribute of the object"
      ],
      "metadata": {
        "id": "ZHCnAGTbQx6k"
      }
    },
    {
      "cell_type": "code",
      "source": [
        "class car:\n",
        "  pass\n",
        "\n",
        "  def __init__(self,brand,model,year):\n",
        "    self.car_brand=brand\n",
        "    self.car_model=model\n",
        "    self.car_year=year\n",
        "\n",
        "  def get_details(self):\n",
        "    print(self.car_brand,self.car_model,self.car_year)\n",
        "\n",
        "obj1=car(\"Toyota\",\"Corolla\",\"2020\")\n",
        "\n",
        "obj1.get_details()"
      ],
      "metadata": {
        "colab": {
          "base_uri": "https://localhost:8080/"
        },
        "id": "jC1VuJg6Rj7l",
        "outputId": "d3377825-5e15-4f0e-b219-2878fca53460"
      },
      "execution_count": null,
      "outputs": [
        {
          "output_type": "stream",
          "name": "stdout",
          "text": [
            "Toyota Corolla 2020\n"
          ]
        }
      ]
    },
    {
      "cell_type": "markdown",
      "source": [
        "##`or`"
      ],
      "metadata": {
        "id": "OLE0-sOYUjwK"
      }
    },
    {
      "cell_type": "code",
      "source": [
        "class car:\n",
        "  def __init__(self,brand,model,year):\n",
        "    self.car_brand=brand\n",
        "    self.car_model=model\n",
        "    self.car_year=year\n",
        "\n",
        "car1=car(\"Toyota\",\"Corolla\",\"2020\")\n",
        "print(f\"Brand: {car1.car_brand} , Model: {car1.car_model} , Year: {2020}\")"
      ],
      "metadata": {
        "colab": {
          "base_uri": "https://localhost:8080/"
        },
        "id": "nTRwhCQHUho7",
        "outputId": "42570cb7-85a5-4c7d-93d9-0d4b334a1cb2"
      },
      "execution_count": null,
      "outputs": [
        {
          "output_type": "stream",
          "name": "stdout",
          "text": [
            "Brand: Toyota , Model: Corolla , Year: 2020\n"
          ]
        }
      ]
    },
    {
      "cell_type": "markdown",
      "source": [
        "#2.\n",
        "*  add a class attribute wheels=4 to the car class\n",
        "* access it using both the class name and an object"
      ],
      "metadata": {
        "id": "lY7my6hqVRbj"
      }
    },
    {
      "cell_type": "code",
      "source": [
        "class car:\n",
        "  wheels=4\n",
        "  def __init__(self,brand,model,year,wheels):\n",
        "    self.car_brand=brand\n",
        "    self.car_model=model\n",
        "    self.car_year=year\n",
        "    self.car_wheels=wheels\n",
        "\n",
        "\n",
        "car1=car(\"Toyota\",\"Corolla\",2020,4)\n",
        "print(\"class attribute via class: \",car.wheels)\n",
        "print(\"class attribute viaobkect: \",car1.wheels)\n"
      ],
      "metadata": {
        "colab": {
          "base_uri": "https://localhost:8080/"
        },
        "id": "6jT1aupyVqHz",
        "outputId": "db5a8fb6-7b81-4d20-af6b-f41078c1f68f"
      },
      "execution_count": null,
      "outputs": [
        {
          "output_type": "stream",
          "name": "stdout",
          "text": [
            "class attribute via class:  4\n",
            "class attribute viaobkect:  4\n"
          ]
        }
      ]
    },
    {
      "cell_type": "markdown",
      "source": [
        "#3.\n",
        "* write a class Rectangle with attribute length and breadth.\n",
        "\n",
        "* add a method area to calculate the area of the rectangle and return it."
      ],
      "metadata": {
        "id": "DTok9xrkXFKi"
      }
    },
    {
      "cell_type": "code",
      "source": [
        "class Rectangle:\n",
        "\n",
        "  def __init__(self,length,breadth):\n",
        "    self.rec_length=length\n",
        "    self.rec_breadth=breadth\n",
        "\n",
        "  def area(self):\n",
        "    print(self.rec_length*self.rec_breadth)\n",
        "\n",
        "rec1=Rectangle(20,30)\n",
        "rec1.area()"
      ],
      "metadata": {
        "colab": {
          "base_uri": "https://localhost:8080/"
        },
        "id": "8rK8FKnjXo6T",
        "outputId": "31c00c08-b427-480e-c3a3-2efe07996deb"
      },
      "execution_count": null,
      "outputs": [
        {
          "output_type": "stream",
          "name": "stdout",
          "text": [
            "600\n"
          ]
        }
      ]
    },
    {
      "cell_type": "markdown",
      "source": [
        "#4.\n",
        "* create a class of students\n",
        "* add attributes name, age, id\n",
        "* create a method to display the attributes\n",
        "* create any 5 objects\n",
        "* display the details of object 2\n",
        "* access the object name\n",
        "* display details of object 3"
      ],
      "metadata": {
        "id": "c1GE700SaMHS"
      }
    },
    {
      "cell_type": "code",
      "source": [
        "class students:\n",
        "  def __init__(self,name,age,id):\n",
        "    self.std_name=name\n",
        "    self.std_age=age\n",
        "    self.std_id=id\n",
        "\n",
        "  def display(self):\n",
        "    print(self.std_name,self.std_age,self.std_id)\n",
        "\n",
        "std1=students(\"shaml\",18,202)\n",
        "std2=students(\"nahan\",18,204)\n",
        "std3=students(\"adithyan\",19,1004)\n",
        "std4=students(\"nuhman\",19,2003)\n",
        "std5=students(\"najad\",17,1005)\n",
        "\n",
        "std2.display()\n",
        "print(std1.std_name)\n",
        "std3.display()"
      ],
      "metadata": {
        "colab": {
          "base_uri": "https://localhost:8080/"
        },
        "id": "webdjcGrbE4K",
        "outputId": "0f9bad79-999b-4486-d80f-ec1cfdd72672"
      },
      "execution_count": null,
      "outputs": [
        {
          "output_type": "stream",
          "name": "stdout",
          "text": [
            "nahan 18 204\n",
            "shaml\n",
            "adithyan 19 1004\n"
          ]
        }
      ]
    },
    {
      "cell_type": "markdown",
      "source": [
        "#5.\n",
        "* **create a class called person with the following attributes: name(string),age(integer),city(string)**\n",
        "* **The class should have the folowing methods:**\n",
        "* **introduce():this method should print a sentence introducing the person like:\"Hello,my name is[name],iam [age]years old,and i lives in [city]\"**\n",
        "* **is_adult():this method should return true if the person is 18 or older(an adult),otherwise return false.**\n",
        "* **then create atleast 2 objects of the person class,initialize them with appropriate values and   demonstrate calling the methods inreoduse() and is_adult().**"
      ],
      "metadata": {
        "id": "LqHZ-dodfW8Z"
      }
    },
    {
      "cell_type": "code",
      "source": [
        "class Person:\n",
        "  def __init__(self,name,age,city):\n",
        "    self.person_name=name\n",
        "    self.person_age=age\n",
        "    self.person_city=city\n",
        "\n",
        "  def indro(self):\n",
        "      print(f\"Hello,my name is {self.person_name},iam {self.person_age} years old,and i lives in {self.person_city}\")\n",
        "  def is_adult(self):\n",
        "   return self.person_age >=18\n",
        "\n",
        "prsn1=Person(\"shamil\",18,\"nilambur\")\n",
        "prsn2=Person(\"nahan\",19,\"manjeri\")\n",
        "\n",
        "prsn1.indro()\n",
        "print(prsn1.is_adult())\n",
        "\n",
        "prsn2.indro()\n",
        "print(prsn2.is_adult())"
      ],
      "metadata": {
        "colab": {
          "base_uri": "https://localhost:8080/"
        },
        "id": "qX8R6J3xf4PZ",
        "outputId": "9fab5a8a-6893-4e5c-b959-d17a7dbf8175"
      },
      "execution_count": null,
      "outputs": [
        {
          "output_type": "stream",
          "name": "stdout",
          "text": [
            "Hello,my name is shamil,iam 18 years old,and i lives in nilambur\n",
            "True\n",
            "Hello,my name is nahan,iam 19 years old,and i lives in manjeri\n",
            "True\n"
          ]
        }
      ]
    },
    {
      "cell_type": "markdown",
      "source": [
        "#INHERITANCE"
      ],
      "metadata": {
        "id": "LNV4NGDrzMkL"
      }
    },
    {
      "cell_type": "code",
      "source": [
        "class Human:\n",
        "\n",
        "  def eat(self):\n",
        "    print(\"i can eat\")\n",
        "\n",
        "  def walk(self):\n",
        "    print(\"i can walk\")\n",
        "\n",
        "class male(Human):\n",
        "\n",
        "  def talk(self):\n",
        "    print(\"i can talk\")\n",
        "\n",
        "male1=male()\n",
        "male1.eat()\n",
        "male1.talk()"
      ],
      "metadata": {
        "colab": {
          "base_uri": "https://localhost:8080/"
        },
        "id": "Gu2Xd4NfzUPT",
        "outputId": "3fd2e13a-1eda-414c-d24a-fa80a72d07aa"
      },
      "execution_count": null,
      "outputs": [
        {
          "output_type": "stream",
          "name": "stdout",
          "text": [
            "i can eat\n",
            "i can talk\n"
          ]
        }
      ]
    },
    {
      "cell_type": "markdown",
      "source": [
        "## consructor overriding"
      ],
      "metadata": {
        "id": "wRsCsKJf63Mb"
      }
    },
    {
      "cell_type": "code",
      "source": [
        "class Human:\n",
        "  def eat(self):\n",
        "    print(\"i can eat\")\n",
        "\n",
        "  def walk(self):\n",
        "    print(\"i can walk\")\n",
        "\n",
        "class male(Human):\n",
        "  def talk(self):\n",
        "    print(\"i can talk\")\n",
        "\n",
        "  def walk(self):\n",
        "    print(\"i can't walk\")\n",
        "    super().walk()\n",
        "\n",
        "male1=male()\n",
        "\n",
        "male1.walk()"
      ],
      "metadata": {
        "colab": {
          "base_uri": "https://localhost:8080/"
        },
        "id": "B7AQdNJr678I",
        "outputId": "a98ef119-e6a5-4add-b066-a61882c71644"
      },
      "execution_count": null,
      "outputs": [
        {
          "output_type": "stream",
          "name": "stdout",
          "text": [
            "i can't walk\n",
            "i can walk\n"
          ]
        }
      ]
    },
    {
      "cell_type": "code",
      "source": [
        "class Employee:\n",
        "  def __init__(self,name,age):\n",
        "    self.name=name\n",
        "    self.age=age\n",
        "\n",
        "class Developer(Employee):\n",
        "  pass\n",
        "\n",
        "dev_1=Developer(\"shml\",18)\n",
        "print(dev_1.name)\n",
        "print(dev_1.age)"
      ],
      "metadata": {
        "colab": {
          "base_uri": "https://localhost:8080/"
        },
        "id": "woRgUUZEM8fJ",
        "outputId": "7246a3da-0871-4d1f-a259-74ddb5c799cb"
      },
      "execution_count": null,
      "outputs": [
        {
          "output_type": "stream",
          "name": "stdout",
          "text": [
            "shml\n",
            "18\n"
          ]
        }
      ]
    },
    {
      "cell_type": "code",
      "source": [
        "# (og method)consructor overriding\n",
        "class Employee:\n",
        "  def __init__(self,name,age):\n",
        "    self.name=name\n",
        "    self.age=age\n",
        "\n",
        "class Developer(Employee):\n",
        "   def __init__(self,name,age,language):\n",
        "    self.language=language\n",
        "    super().__init__(name,age)\n",
        "\n",
        "dev_1=Developer(\"shml\",18,\"python\")\n",
        "\n",
        "print(dev_1.language)\n",
        "print(dev_1.name)\n",
        "print(dev_1.age)"
      ],
      "metadata": {
        "colab": {
          "base_uri": "https://localhost:8080/"
        },
        "id": "-0wZBD4aOXVi",
        "outputId": "283d0887-e60f-477f-8a66-674d26ac71e7"
      },
      "execution_count": null,
      "outputs": [
        {
          "output_type": "stream",
          "name": "stdout",
          "text": [
            "python\n",
            "shml\n",
            "18\n"
          ]
        }
      ]
    },
    {
      "cell_type": "markdown",
      "source": [
        "#6.\n",
        "* create base class product with\n",
        "\n",
        "\n",
        "\n",
        "* consuctor (__init__)to initialize name and price\n",
        "* a method diplay_detail() to print product details\n",
        "* create a subclass Elactronics with:\n",
        "\n",
        "\n",
        "* construtor (__init__) to initilalize name ,price and warrenty.\n",
        "* override the display_details() method to include warranty\n",
        "* instantiate objects of both classes and call their display_details() methods"
      ],
      "metadata": {
        "id": "Y8UiQjIFQ0Jf"
      }
    },
    {
      "cell_type": "code",
      "source": [
        "class Product:\n",
        "  def __init__(self,name,price):\n",
        "    self.prod_name=name\n",
        "    self.prod_price=price\n",
        "\n",
        "  def display_details(self):\n",
        "    print(f\"The product name is {self.prod_name} and the price is {self.prod_price}\")\n",
        "\n",
        "class Electronics(Product):\n",
        "  def __init__(self,name,price,warranty):\n",
        "    self.prod_warranty=warranty\n",
        "    super().__init__(name,price)\n",
        "\n",
        "  def display_details(self):\n",
        "    super().display_details()\n",
        "    print(f\"The product warranty is {self.prod_warranty} years\")\n",
        "\n",
        "p1=Product(\"computer\",30000)\n",
        "p1.display_details()\n",
        "\n",
        "p2=Electronics(\"laptop\",50000,3)\n",
        "p2.display_details()"
      ],
      "metadata": {
        "colab": {
          "base_uri": "https://localhost:8080/"
        },
        "id": "I_TGPB5Nggrb",
        "outputId": "a07782e2-59b7-4ed6-b52d-e9cfdf957fe6"
      },
      "execution_count": null,
      "outputs": [
        {
          "output_type": "stream",
          "name": "stdout",
          "text": [
            "The product name is computer and the price is 30000\n",
            "The product name is laptop and the price is 50000\n",
            "The product warranty is 3 years\n"
          ]
        }
      ]
    },
    {
      "cell_type": "code",
      "source": [
        "class Mobile:\n",
        "\n",
        "  def __init__(self,name,price):\n",
        "    self.name = name\n",
        "    self.price = price\n",
        "\n",
        "  def display_details(self):\n",
        "    print(self.name,self.price)\n",
        "\n",
        "class Phone(Mobile):\n",
        "\n",
        "  def __init__(self,name,price,warranty):\n",
        "    self.warranty = warranty\n",
        "    super().__init__(name,price)\n",
        "\n",
        "  def display_details(self):\n",
        "    print(self.name,self.price,self.warranty)\n",
        "\n",
        "mobile = Mobile(\"i phone\",150000)\n",
        "\n",
        "phone = Phone(\"samsung\",25000,\"3 year\")\n",
        "\n",
        "mobile.display_details()\n",
        "phone.display_details()"
      ],
      "metadata": {
        "id": "7z-mXf2fXY-W",
        "colab": {
          "base_uri": "https://localhost:8080/"
        },
        "outputId": "6d61437f-43fb-441e-c190-b1fa8f663a26"
      },
      "execution_count": null,
      "outputs": [
        {
          "output_type": "stream",
          "name": "stdout",
          "text": [
            "i phone 150000\n",
            "samsung 25000 3 year\n"
          ]
        }
      ]
    },
    {
      "cell_type": "markdown",
      "source": [
        "#` multiple inheritance`"
      ],
      "metadata": {
        "id": "qIjIZFjKmBOn"
      }
    },
    {
      "cell_type": "code",
      "source": [
        "class Human:\n",
        "  def eat(self):\n",
        "    print(\"i can eat\")\n",
        "\n",
        "  def work(self):\n",
        "    print(\"i can work\")\n",
        "\n",
        "class Male:\n",
        "  def flirt(self):\n",
        "    print(\"i can flirt\")\n",
        "\n",
        "  def work(self):\n",
        "    print(\"i can code\")\n",
        "\n",
        "class Boy(Male,Human):\n",
        "  pass\n",
        "\n",
        "boy1=Boy()\n",
        "boy1.eat()\n",
        "boy1.flirt()\n",
        "boy1.work()"
      ],
      "metadata": {
        "colab": {
          "base_uri": "https://localhost:8080/"
        },
        "id": "1EZ9PSZ8l_u2",
        "outputId": "9acac371-580d-4459-deb2-14e008d6f0e7"
      },
      "execution_count": null,
      "outputs": [
        {
          "output_type": "stream",
          "name": "stdout",
          "text": [
            "i can eat\n",
            "i can flirt\n",
            "i can code\n"
          ]
        }
      ]
    },
    {
      "cell_type": "code",
      "source": [
        "class Human:\n",
        "  def eat(self):\n",
        "    print(\"i can eat\")\n",
        "\n",
        "  def work(self):\n",
        "    print(\"i can work\")\n",
        "\n",
        "class Male:\n",
        "  def flirt(self):\n",
        "    print(\"i can flirt\")\n",
        "\n",
        "  def work(self):\n",
        "    print(\"i can code\")\n",
        "\n",
        "class Boy(Human,Male):\n",
        "  def work(self):\n",
        "    Male.work(self)\n",
        "\n",
        "boy1=Boy()\n",
        "boy1.eat()\n",
        "boy1.flirt()\n",
        "boy1.work()"
      ],
      "metadata": {
        "colab": {
          "base_uri": "https://localhost:8080/"
        },
        "id": "5Mu7vgiZvmjd",
        "outputId": "f350e648-0d53-452f-91d6-e8f40bb53597"
      },
      "execution_count": null,
      "outputs": [
        {
          "output_type": "stream",
          "name": "stdout",
          "text": [
            "i can eat\n",
            "i can flirt\n",
            "i can code\n"
          ]
        }
      ]
    },
    {
      "cell_type": "markdown",
      "source": [
        "#***`Polymorphism`***"
      ],
      "metadata": {
        "id": "mzTstQz53RIi"
      }
    },
    {
      "cell_type": "code",
      "source": [
        "class A:\n",
        "  def show(self):\n",
        "    print(\"Class A\")\n",
        "\n",
        "class B(A):\n",
        "  def show(self):\n",
        "    print(\"Class B\")\n",
        "    super().show()\n",
        "\n",
        "class C(B):\n",
        "  def show(self):\n",
        "    print(\"Class C\")\n",
        "    super().show()\n",
        "\n",
        "obj=C()\n",
        "obj.show()"
      ],
      "metadata": {
        "colab": {
          "base_uri": "https://localhost:8080/"
        },
        "id": "3Z8wvFW23XYq",
        "outputId": "458f1ac1-dd79-475c-ae9f-3033327c076d"
      },
      "execution_count": null,
      "outputs": [
        {
          "output_type": "stream",
          "name": "stdout",
          "text": [
            "Class C\n",
            "Class B\n",
            "Class A\n"
          ]
        }
      ]
    },
    {
      "cell_type": "markdown",
      "source": [
        "## `method overriding`"
      ],
      "metadata": {
        "id": "N7sx_L03-NrA"
      }
    },
    {
      "cell_type": "code",
      "source": [
        "class Animal:\n",
        "  def speak(self):\n",
        "    print(\"Animal is making a sound\")\n",
        "\n",
        "class Dog(Animal):\n",
        "  def speak(self):\n",
        "    print(\"Dog braks\")\n",
        "    super().speak()\n",
        "\n",
        "class cat(Animal):\n",
        "  def speaks(self):\n",
        "    print(\"Cat meows\")\n",
        "\n",
        "dog=Dog()\n",
        "dog.speak()"
      ],
      "metadata": {
        "colab": {
          "base_uri": "https://localhost:8080/"
        },
        "id": "irQN7I5S49YC",
        "outputId": "8ab991d8-0ef5-4cb5-e0a4-ac0ff7df0b8f"
      },
      "execution_count": null,
      "outputs": [
        {
          "output_type": "stream",
          "name": "stdout",
          "text": [
            "Dog braks\n",
            "Animal is making a sound\n"
          ]
        }
      ]
    },
    {
      "cell_type": "markdown",
      "source": [
        "##`method overloading`"
      ],
      "metadata": {
        "id": "SX1V6FND-RrJ"
      }
    },
    {
      "cell_type": "markdown",
      "source": [
        "`using default arguments`"
      ],
      "metadata": {
        "id": "xv1mN9IGAG5Q"
      }
    },
    {
      "cell_type": "code",
      "source": [
        "class Calculator:\n",
        "  def add(self,a,b=0,c=0):\n",
        "    return a+b+c\n",
        "\n",
        "calc=Calculator()\n",
        "\n",
        "print(calc.add(5))\n",
        "print(calc.add(5,10))\n",
        "print(calc.add(5,10,20))"
      ],
      "metadata": {
        "colab": {
          "base_uri": "https://localhost:8080/"
        },
        "id": "4ghs8vTu-EBA",
        "outputId": "57a60aee-ef5c-4e4e-ce36-742e09a758d4"
      },
      "execution_count": null,
      "outputs": [
        {
          "output_type": "stream",
          "name": "stdout",
          "text": [
            "5\n",
            "15\n",
            "35\n"
          ]
        }
      ]
    },
    {
      "cell_type": "markdown",
      "source": [
        "`using variable-length arguments(*args)`"
      ],
      "metadata": {
        "id": "5pBQjf9cALw_"
      }
    },
    {
      "cell_type": "code",
      "source": [
        "class Mathoperations:\n",
        "  def add(self,*numbers):\n",
        "    total=sum(numbers)\n",
        "    print(f\"sum:{total}\")\n",
        "\n",
        "math=Mathoperations()\n",
        "math.add(5)\n",
        "math.add(5,10)\n",
        "math.add(1,2,3,4,5)"
      ],
      "metadata": {
        "colab": {
          "base_uri": "https://localhost:8080/"
        },
        "id": "shGTdqzEATIC",
        "outputId": "77ebd677-330f-4552-ca5f-e17b07fcde97"
      },
      "execution_count": null,
      "outputs": [
        {
          "output_type": "stream",
          "name": "stdout",
          "text": [
            "sum:5\n",
            "sum:15\n",
            "sum:15\n"
          ]
        }
      ]
    },
    {
      "cell_type": "markdown",
      "source": [
        "`using *Kwargs`"
      ],
      "metadata": {
        "id": "DQiJAIs8DXbQ"
      }
    },
    {
      "cell_type": "code",
      "source": [
        "class Greeting:\n",
        "  def say_hello(self,**kwargs):\n",
        "    if 'name' in kwargs and 'age' in kwargs and 'city' in kwargs:\n",
        "      print(f\"Hello,{kwargs['name']}!\")\n",
        "      print(f\"you are,{kwargs['age']}years old\")\n",
        "      print(f\"you live in,{kwargs['city']}.\")\n",
        "    else:\n",
        "      print('hello')\n",
        "\n",
        "g=Greeting()\n",
        "g.say_hello()\n",
        "g.say_hello(name='Aswanth',age=25,city='New York')"
      ],
      "metadata": {
        "colab": {
          "base_uri": "https://localhost:8080/"
        },
        "id": "44OSAsqSDd2X",
        "outputId": "16e2c9b1-1393-4271-e7b3-f1dccbe0fb05"
      },
      "execution_count": null,
      "outputs": [
        {
          "output_type": "stream",
          "name": "stdout",
          "text": [
            "hello\n",
            "Hello,Aswanth!\n",
            "you are,25years old\n",
            "you live in,New York.\n"
          ]
        }
      ]
    },
    {
      "cell_type": "markdown",
      "source": [
        "#***`Enncapsulation`***"
      ],
      "metadata": {
        "id": "XMEZB0pUW0Nh"
      }
    },
    {
      "cell_type": "code",
      "source": [
        "class Company:\n",
        "  def __init__(self,company_name,company_id):\n",
        "    self.company_name=company_name\n",
        "    self.__company_id=company_id\n",
        "\n",
        "  def get_company_id(self):\n",
        "    return self.__company_id\n",
        "\n",
        "c1=Company(\"TCS\",91)\n",
        "\n",
        "print(c1.__Company_id)\n",
        "print(c1.company_name)\n",
        "#print(c1.get_company_id())"
      ],
      "metadata": {
        "colab": {
          "base_uri": "https://localhost:8080/",
          "height": 220
        },
        "id": "dTP-bbAdXa74",
        "outputId": "d35f4851-56f1-41a6-8def-c2809ce7bce2"
      },
      "execution_count": null,
      "outputs": [
        {
          "output_type": "error",
          "ename": "AttributeError",
          "evalue": "'Company' object has no attribute '__Company_id'",
          "traceback": [
            "\u001b[0;31m---------------------------------------------------------------------------\u001b[0m",
            "\u001b[0;31mAttributeError\u001b[0m                            Traceback (most recent call last)",
            "\u001b[0;32m<ipython-input-14-f7ba42ebd0ba>\u001b[0m in \u001b[0;36m<cell line: 0>\u001b[0;34m()\u001b[0m\n\u001b[1;32m      9\u001b[0m \u001b[0mc1\u001b[0m\u001b[0;34m=\u001b[0m\u001b[0mCompany\u001b[0m\u001b[0;34m(\u001b[0m\u001b[0;34m\"TCS\"\u001b[0m\u001b[0;34m,\u001b[0m\u001b[0;36m91\u001b[0m\u001b[0;34m)\u001b[0m\u001b[0;34m\u001b[0m\u001b[0;34m\u001b[0m\u001b[0m\n\u001b[1;32m     10\u001b[0m \u001b[0;34m\u001b[0m\u001b[0m\n\u001b[0;32m---> 11\u001b[0;31m \u001b[0mprint\u001b[0m\u001b[0;34m(\u001b[0m\u001b[0mc1\u001b[0m\u001b[0;34m.\u001b[0m\u001b[0m__Company_id\u001b[0m\u001b[0;34m)\u001b[0m\u001b[0;34m\u001b[0m\u001b[0;34m\u001b[0m\u001b[0m\n\u001b[0m\u001b[1;32m     12\u001b[0m \u001b[0mprint\u001b[0m\u001b[0;34m(\u001b[0m\u001b[0mc1\u001b[0m\u001b[0;34m.\u001b[0m\u001b[0mcompany_name\u001b[0m\u001b[0;34m)\u001b[0m\u001b[0;34m\u001b[0m\u001b[0;34m\u001b[0m\u001b[0m\n\u001b[1;32m     13\u001b[0m \u001b[0;31m#print(c1.get_company_id())\u001b[0m\u001b[0;34m\u001b[0m\u001b[0;34m\u001b[0m\u001b[0m\n",
            "\u001b[0;31mAttributeError\u001b[0m: 'Company' object has no attribute '__Company_id'"
          ]
        }
      ]
    },
    {
      "cell_type": "code",
      "source": [
        "class Company:\n",
        "  def __init__(self,company_name,company_id):\n",
        "    self.company_name=company_name\n",
        "    self.__company_id=company_id\n",
        "\n",
        "  def get_company_id(self):\n",
        "    return self.__company_id\n",
        "\n",
        "c1=Company(\"TCS\",91)\n",
        "\n",
        "#print(c1.__Company_id)\n",
        "print(c1.company_name)\n",
        "print(c1.get_company_id())"
      ],
      "metadata": {
        "colab": {
          "base_uri": "https://localhost:8080/"
        },
        "id": "LofnjGNrbIOv",
        "outputId": "b4b0983d-2755-475e-ae62-69834fea7eb0"
      },
      "execution_count": null,
      "outputs": [
        {
          "output_type": "stream",
          "name": "stdout",
          "text": [
            "TCS\n",
            "91\n"
          ]
        }
      ]
    },
    {
      "cell_type": "code",
      "source": [
        "class Company:\n",
        "  def __init__(self,company_name,company_id,company_ceo):\n",
        "    self.company_name=company_name\n",
        "    self.__company_id=company_id\n",
        "    self.__company_ceo=company_ceo\n",
        "\n",
        "  def get_company_id(self):\n",
        "    return self.__company_id\n",
        "\n",
        "  def set_ceo(self,setted_name):\n",
        "    self.__company_ceo=setted_name\n",
        "\n",
        "  def get_ceo(self):\n",
        "    return self.__company_ceo\n",
        "\n",
        "c1=Company(\"ALUNGAL\",100,\"nahan\")\n",
        "\n",
        "c1.set_ceo(\"shml\")    #here company_ceo is \"nahan\" but setted as \"shml\"\n",
        "print(c1.get_ceo())"
      ],
      "metadata": {
        "colab": {
          "base_uri": "https://localhost:8080/"
        },
        "id": "jDZzhLHOg_1X",
        "outputId": "693e5c5c-8264-4274-df54-4edca13ca5c3"
      },
      "execution_count": null,
      "outputs": [
        {
          "output_type": "stream",
          "name": "stdout",
          "text": [
            "manu\n"
          ]
        }
      ]
    },
    {
      "cell_type": "code",
      "source": [
        "class Company:\n",
        "  def __init__(self,company_name,company_id,company_ceo):\n",
        "    self.company_name=company_name\n",
        "    self.__company_id=company_id\n",
        "    self.__company_ceo=company_ceo\n",
        "\n",
        "  def set_id(self,setted_id):\n",
        "    self.__company_id=setted_id\n",
        "\n",
        "\n",
        "  def get_id(self):\n",
        "    return self.__company_id\n",
        "\n",
        "  def get_company_ceo(self):\n",
        "    return self.__company_ceo\n",
        "\n",
        "\n",
        "c1=Company(\"ALUNGAL\",100,\"nahan\")\n",
        "\n",
        "c1.set_id(10)    #here company_id is 100 but setted as 10\n",
        "print(c1.get_id())"
      ],
      "metadata": {
        "colab": {
          "base_uri": "https://localhost:8080/"
        },
        "id": "n677RmMshCyt",
        "outputId": "c24d6163-4e80-4a6c-9f4a-639b62452b51"
      },
      "execution_count": null,
      "outputs": [
        {
          "output_type": "stream",
          "name": "stdout",
          "text": [
            "10\n"
          ]
        }
      ]
    },
    {
      "cell_type": "code",
      "source": [
        "class BankAccount:\n",
        "  def __init__(self,account_number,balance):\n",
        "    self.__account_number=account_number\n",
        "    self.__balance=balance\n",
        "\n",
        "  def deposite(self,amount):\n",
        "    if amount >0:\n",
        "      self.__balance=self.__balance+amount\n",
        "      print(f\"Deposited {amount}.New balance: {self.__balance}\")\n",
        "    else:\n",
        "      print(\"Invalid deposite amount.\")\n",
        "\n",
        "  def get_balance(self):\n",
        "    return self.__balance\n",
        "\n",
        "accunt=BankAccount(\"12345\",1000)\n",
        "accunt.deposite(500)\n",
        "#print(accunt.__balance)\n",
        "print(accunt.get_balance())"
      ],
      "metadata": {
        "colab": {
          "base_uri": "https://localhost:8080/"
        },
        "id": "6mxoUwrbidYt",
        "outputId": "0f3403a2-9117-47d0-ebf1-2852aa3c3383"
      },
      "execution_count": null,
      "outputs": [
        {
          "output_type": "stream",
          "name": "stdout",
          "text": [
            "Deposited 500.New balance: 1500\n",
            "1500\n"
          ]
        }
      ]
    },
    {
      "cell_type": "markdown",
      "source": [
        "Car Class\n",
        "\n",
        "You are asked to develop a class to manage car's fuel securely.\n",
        "\n",
        "1.​Define a Python class Car with the following private attribute:\n",
        "\n",
        "      ○​ __fuel_level to store the fuel level in the car.\n",
        "\n",
        "2.​Implement the following public methods:\n",
        "\n",
        "     ○​ add_fuel(amount) – A method to add fuel to the car.\n",
        "\n",
        "     ○​ get_fuel_level() – A method to display the current fuel level securely.\n",
        "\n",
        "3.​ Demonstrate the usage of the class by:\n",
        "\n",
        "      ○​ Adding 20 units of fuel to the car.\n",
        "      ○​ Displaying the fuel level."
      ],
      "metadata": {
        "id": "1ZF86fO71mgo"
      }
    },
    {
      "cell_type": "code",
      "source": [
        "class Car:\n",
        "  def __init__(self,fuel):\n",
        "    self.__fuel=fuel\n",
        "\n",
        "  def add_fuel(self,amount):\n",
        "    if amount >0:\n",
        "      self.__fuel=self.__fuel+amount\n",
        "      print(f\"{amount} rs of fuel added ,New Fuel {self.__fuel}\")\n",
        "\n",
        "    else:\n",
        "      print(\"invaild amount of fuel\")\n",
        "\n",
        "  def get_fuel(self):\n",
        "    return self.__fuel\n",
        "\n",
        "amntfuel=Car(50)\n",
        "amntfuel.add_fuel(500)\n",
        "\n",
        "print(amntfuel.get_fuel())"
      ],
      "metadata": {
        "colab": {
          "base_uri": "https://localhost:8080/"
        },
        "id": "J8-7muK51to4",
        "outputId": "9f1258a0-beab-4c0c-8ca3-b52decbf773f"
      },
      "execution_count": null,
      "outputs": [
        {
          "output_type": "stream",
          "name": "stdout",
          "text": [
            "500 rs of fuel added ,New Fuel 550\n",
            "550\n"
          ]
        }
      ]
    },
    {
      "cell_type": "markdown",
      "source": [
        "ATM Class\n",
        "\n",
        "You are required to implement a secure ATM system\n",
        "\n",
        "1.​ Define a Python class ATM with the following private attributes:\n",
        "\n",
        "\n",
        "    ○​ __pin to store the user's ATM PIN securely.\n",
        "    ○​ __balance to store the current account balance.\n",
        "\n",
        "2.​ Implement the following public methods:○​ set_pin(pin) – A method to securely set the ATM PIN.\n",
        "\n",
        "    ○​ check_balance(pin) – A method to check the balance after PINverification.\n",
        "\n",
        "3.​ Demonstrate the usage of the class by:\n",
        "\n",
        "    ○​ Setting the PIN to 1234.\n",
        "    ○​ Checking the balance by providing the correct PIN."
      ],
      "metadata": {
        "id": "N1O1SKiy6WN3"
      }
    },
    {
      "cell_type": "code",
      "source": [
        "class ATM:\n",
        "    def __init__(self):\n",
        "        self.__atm_pin=None\n",
        "        self.__atm_balance=1000\n",
        "\n",
        "    def set_pin(self,pin):\n",
        "        self.__atm_pin=pin\n",
        "        print(\"PIN set successfully\")\n",
        "\n",
        "    def check_balance(self,pin):\n",
        "        if pin==self.__atm_pin:\n",
        "            print(f\"Balance: {self.__atm_balance}\")\n",
        "        else:\n",
        "            print(\"Incorrect PIN\")\n",
        "\n",
        "atm =ATM()\n",
        "atm.set_pin(1234)\n",
        "atm.check_balance(1234)"
      ],
      "metadata": {
        "id": "R6D1Oc4p6f5P",
        "colab": {
          "base_uri": "https://localhost:8080/"
        },
        "outputId": "b8f88aaf-eea9-4da5-d0e4-f07f8c53dca4"
      },
      "execution_count": null,
      "outputs": [
        {
          "output_type": "stream",
          "name": "stdout",
          "text": [
            "PIN set successfully\n",
            "Balance: 1000\n"
          ]
        }
      ]
    },
    {
      "cell_type": "markdown",
      "source": [
        "#***`Abstraction`***"
      ],
      "metadata": {
        "id": "R4K41KmHhDkA"
      }
    },
    {
      "cell_type": "code",
      "source": [
        "from abc import ABC, abstractmethod\n",
        "\n",
        "class Vehicle(ABC):\n",
        "  def start_engine(self):\n",
        "    print(\"Engine started\")\n",
        "\n",
        "  def apply_brake(self):\n",
        "    print(\"Brake applied\")\n",
        "\n",
        "  def stop_engine(self):\n",
        "    print(\"Engine Stopped\")\n",
        "  @abstractmethod\n",
        "  def change_gear(self):\n",
        "    pass\n",
        "\n",
        "\n",
        "class Car(Vehicle):\n",
        "  def open_sunroof(self):\n",
        "    print(\"sunroof opened\")\n",
        "  def change_gear(self):\n",
        "    print(\"the gear changed automatically\")\n",
        "\n",
        "class truck(Vehicle):\n",
        "  def load_weight(self):\n",
        "    print(\"weight loaded\")\n",
        "  def change_gear(self):\n",
        "    print(\"the gear changed manually\")\n",
        "\n",
        "\n",
        "\n",
        "c=Car()\n",
        "t=truck()\n",
        "c.change_gear()\n",
        "t.change_gear()"
      ],
      "metadata": {
        "colab": {
          "base_uri": "https://localhost:8080/"
        },
        "id": "IbtUP571it4Y",
        "outputId": "582e86b4-c21b-4459-eb69-e181c2ddcb73"
      },
      "execution_count": null,
      "outputs": [
        {
          "output_type": "stream",
          "name": "stdout",
          "text": [
            "the gear changed automatically\n",
            "the gear changed manually\n"
          ]
        }
      ]
    },
    {
      "cell_type": "markdown",
      "source": [
        ">q)\n",
        "\n",
        ">* Create an abstract class payment with an abstract method make_payment()\n",
        "* Implement subclasses CreditCard and UPI, where each provides its implementation for make_payment()\n",
        "* Demonstrate the usage by calling the methods on both subclasses"
      ],
      "metadata": {
        "id": "oYwBSfzwpkCw"
      }
    },
    {
      "cell_type": "code",
      "source": [
        "from abc import ABC, abstractmethod\n",
        "\n",
        "class Payment(ABC):\n",
        "    @abstractmethod\n",
        "    def make_payment(self, amount):\n",
        "        pass\n",
        "\n",
        "class CreditCard(Payment):\n",
        "    def make_payment(self, amount):\n",
        "        print(f\"Paid {amount} using Credit Card.\")\n",
        "\n",
        "class UPI(Payment):\n",
        "    def make_payment(self, amount):\n",
        "        print(f\"Paid {amount} using UPI.\")\n",
        "\n",
        "# Demonstration\n",
        "credit_card_payment = CreditCard()\n",
        "upi_payment = UPI()\n",
        "\n",
        "credit_card_payment.make_payment(500)  # Output: Paid 500 using Credit Card.\n",
        "upi_payment.make_payment(1000)        # Output: Paid 1000 using UPI.\n"
      ],
      "metadata": {
        "colab": {
          "base_uri": "https://localhost:8080/"
        },
        "id": "RKteBtFthNGv",
        "outputId": "803bbc45-c6ac-4c00-8596-d6182eaf21c1"
      },
      "execution_count": null,
      "outputs": [
        {
          "output_type": "stream",
          "name": "stdout",
          "text": [
            "Paid 500 using Credit Card.\n",
            "Paid 1000 using UPI.\n"
          ]
        }
      ]
    },
    {
      "cell_type": "markdown",
      "source": [
        ">q)\n",
        "\n",
        ">* create an abstarct class shape with an method calculate_area()\n",
        "* implement subclass circle and square\n",
        "* for circle,calculate the area using the radius,and forr square\n",
        "* calculate the area using the side length"
      ],
      "metadata": {
        "id": "xiaRN8z1rXVP"
      }
    },
    {
      "cell_type": "code",
      "source": [
        "from abc import ABC, abstractmethod\n",
        "from math import pi\n",
        "\n",
        "class Shape(ABC):\n",
        "  @abstractmethod\n",
        "  def calculate_area(self,amount):\n",
        "    pass\n",
        "\n",
        "class Circle(Shape):\n",
        "  def __init__(self,radius):\n",
        "    self.radius=radius\n",
        "\n",
        "\n",
        "  def calculate_area(self):\n",
        "    print(f\"Area of circle: {pi*self.radius ** 2:.2f}\")\n",
        "\n",
        "class Square(Shape):\n",
        "  def __init__(self,side):\n",
        "    self.side=side\n",
        "\n",
        "  def calculate_area(self):\n",
        "    print(f\"Area of square: {self.side ** 2}\")\n",
        "\n",
        "circle=Circle(5)\n",
        "square=Square(4)\n",
        "\n",
        "\n",
        "circle.calculate_area()\n",
        "square.calculate_area()"
      ],
      "metadata": {
        "colab": {
          "base_uri": "https://localhost:8080/"
        },
        "id": "HkMbOh1vsT8B",
        "outputId": "f3b66a83-455b-4b9f-e5c3-32d27a047f67"
      },
      "execution_count": null,
      "outputs": [
        {
          "output_type": "stream",
          "name": "stdout",
          "text": [
            "Area of circle: 78.54\n",
            "Area of square: 16\n"
          ]
        }
      ]
    },
    {
      "cell_type": "markdown",
      "source": [
        ">q)\n",
        "\n",
        ">* Create an abstract class Animal with an abstract method speak()\n",
        "* Implement the speak() method in subclasses Dog and Bird to print their respective sounds"
      ],
      "metadata": {
        "id": "64dPG_Aa3nLo"
      }
    },
    {
      "cell_type": "code",
      "source": [
        "from abc import ABC ,abstractmethod\n",
        "\n",
        "class Animal(ABC):\n",
        "  @abstractmethod\n",
        "  def speaks(self):\n",
        "    pass\n",
        "\n",
        "class Dog(Animal):\n",
        "  def speaks(self):\n",
        "    print(\"Dog barkes\")\n",
        "\n",
        "class Bird(Animal):\n",
        "  def speaks(self):\n",
        "    print(\"Bird chirps\")\n",
        "\n",
        "dog1=Dog()\n",
        "bird1=Bird()\n",
        "\n",
        "dog1.speaks()\n",
        "bird1.speaks()"
      ],
      "metadata": {
        "colab": {
          "base_uri": "https://localhost:8080/"
        },
        "id": "AVnrt4ts35Wv",
        "outputId": "6c86fbd2-c7b5-4a6e-801e-faab93757f5d"
      },
      "execution_count": null,
      "outputs": [
        {
          "output_type": "stream",
          "name": "stdout",
          "text": [
            "Dog barkes\n",
            "Bird chirps\n"
          ]
        }
      ]
    }
  ]
}